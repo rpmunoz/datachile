{
 "cells": [
  {
   "cell_type": "code",
   "execution_count": 1,
   "metadata": {
    "collapsed": false
   },
   "outputs": [],
   "source": [
    "import numpy as np\n",
    "import pandas as pd\n",
    "from bs4 import BeautifulSoup\n",
    "import matplotlib.pyplot as plt\n",
    "\n",
    "%matplotlib inline\n",
    "pd.set_option('display.max_columns', 10)\n",
    "pd.set_option('display.max_rows', 20)\n",
    "pd.set_option('display.max_colwidth', 200)"
   ]
  },
  {
   "cell_type": "code",
   "execution_count": 2,
   "metadata": {
    "collapsed": false,
    "scrolled": true
   },
   "outputs": [
    {
     "name": "stderr",
     "output_type": "stream",
     "text": [
      "/usr/local/lib/python3.5/site-packages/IPython/core/interactiveshell.py:2717: DtypeWarning: Columns (77,80,85,86,92,102,132,135,150,151,155,160,208,213,214,223,224,233,234,236,239,266,267,268,269,273,278,279,286,287,288,289,292,295,301,302,306,313,315,316,323,324,325,326,331,332,333,337,338,339,340,350,353,361,364,366,369,371,376,381,382,386,387,391,392,396,397,401,402,406,411,412,416,417,421,422,426,427,431,432,437,443,444,449,452,457,465,466,467,497,498,500,501,502,503,504,505,506,508,509,510,511,512,513,517,518,522,532,542,552,559,562,569,570,585,586,587,591,593,596,643,647,648,657,658,660,661,662,664,683,684,695,696,700,702,704,706,708,722,729,731,736,737,746,747,752,753,754,756,757,758,765,766,789,790,797,798,799,800,806,808,813,819,820,821,822,824,826,835,839,840,841,845,846,849,850,852,857,861,862,867,868,869,870,871,874,879,880,881,882,889,892,893,902,908,909,920,921,934,935,938,939,940,943,944,946,947,949,950,952,955,956,958,959,961,964,966,967,970,974,976,977,980,981,983,984,986,988,989,990,994,997,998,1002,1006,1007,1008,1009,1012,1013,1014,1015,1016,1019,1035,1037,1038,1043,1049,1050,1052,1055,1058) have mixed types. Specify dtype option on import or set low_memory=False.\n",
      "  interactivity=interactivity, compiler=compiler, result=result)\n"
     ]
    }
   ],
   "source": [
    "data=pd.read_csv('/Volumes/Data/Dropbox/ANIP/Encuesta de insercion 2016/20161231075312-SurveyExport.csv', encoding='utf-8-sig')"
   ]
  },
  {
   "cell_type": "code",
   "execution_count": 3,
   "metadata": {
    "collapsed": false
   },
   "outputs": [
    {
     "name": "stdout",
     "output_type": "stream",
     "text": [
      "Index(['Response ID', 'Time Started', 'Date Submitted', 'Status', 'Contact ID',\n",
      "       'Legacy Comments', 'Comments', 'Language', 'Referer',\n",
      "       'Extended Referer',\n",
      "       ...\n",
      "       'Countries:Specify the countries, institutions and collaboration relationships',\n",
      "       'Institutions and Organisations:Specify the countries, institutions and collaboration relationships',\n",
      "       'Collaboration relationships:Specify the countries, institutions and collaboration relationships',\n",
      "       'During your academic training and professional career, did you look forward to work in the academic field?',\n",
      "       'Are you member of any researchers, professional or scientific association?',\n",
      "       'Specify what associations you are a member of',\n",
      "       'Are you interested in being contacted by the Asociación Nacional de Investigadores de Postgrado  (ANIP) and Redes Chilenas (ReCh)?',\n",
      "       'Do you want to receive the results of this survey?', 'E-mail',\n",
      "       'URL Redirect'],\n",
      "      dtype='object', length=1081)\n"
     ]
    }
   ],
   "source": [
    "print(data.columns)"
   ]
  },
  {
   "cell_type": "code",
   "execution_count": 55,
   "metadata": {
    "collapsed": false
   },
   "outputs": [
    {
     "name": "stdout",
     "output_type": "stream",
     "text": [
      "Estado del empleo:  ['Una vez terminado el Magíster (MSc) y estando físicamente en Chile ¿Cuánto tiempo tardó en encontrar empleo vinculado a su especialización? Entiéndase que hacer un nuevo Postgrado o trabajar como Postdoctorado son considerados empleos./Magíster (MSc)', 'Una vez terminado el Doctorado (PhD) y estando físicamente en Chile ¿Cuánto tiempo tardó en encontrar empleo vinculado a su especialización? Entiéndase que hacer un nuevo Postgrado o trabajar como Postdoctorado son considerados empleos./Doctorado (PhD)', 'Una vez terminado el Postdoctorado y estando físicamente en Chile ¿Cuánto tiempo tardó en encontrar empleo vinculado a su especialización?\\xa0Entiéndase que hacer un nuevo Postgrado o trabajar como Postdoctorado son considerados empleos.']\n",
      "Edad:  ['¿Cuál es su edad? Exprésela en años', '¿Cuántos trabajos u obras tiene inscritos con propiedad intelectual?']\n",
      "Numero de trabajos:  ['¿Cuántos empleos tiene en la actualidad? Incluya los empleos formales e informales.']\n",
      "Tipo de contrato:  ['¿Qué tipo de relación laboral tiene en este trabajo?/1', 'Otra:¿Qué tipo de relación laboral tiene en este trabajo?/1']\n"
     ]
    }
   ],
   "source": [
    "employment_cols = [col for col in data.columns if 'Cuánto tiempo tardó en encontrar empleo' in col]\n",
    "age_cols = [col for col in data.columns if 'edad' in col]\n",
    "njob_cols= [col for col in data.columns if 'Cuántos empleos' in col]\n",
    "contract_cols = [col for col in data.columns if '¿Qué tipo de relación laboral tiene en este trabajo?/1' in col]\n",
    "print('Estado del empleo: ', employment_cols)\n",
    "print('Edad: ', age_cols)\n",
    "print('Numero de trabajos: ', njob_cols)\n",
    "print('Tipo de contrato: ', contract_cols)"
   ]
  },
  {
   "cell_type": "code",
   "execution_count": 66,
   "metadata": {
    "collapsed": false
   },
   "outputs": [
    {
     "name": "stderr",
     "output_type": "stream",
     "text": [
      "/usr/local/lib/python3.5/site-packages/pandas/core/frame.py:2824: SettingWithCopyWarning: \n",
      "A value is trying to be set on a copy of a slice from a DataFrame\n",
      "\n",
      "See the caveats in the documentation: http://pandas.pydata.org/pandas-docs/stable/indexing.html#indexing-view-versus-copy\n",
      "  downcast=downcast, **kwargs)\n"
     ]
    }
   ],
   "source": [
    "data.loc[:,'¿Cuántos empleos tiene en la actualidad? Incluya los empleos formales e informales.']=data['¿Cuántos empleos tiene en la actualidad? Incluya los empleos formales e informales.'].replace('5 o más','5').apply(pd.to_numeric)\n",
    "\n",
    "data_complete=data[data['Status'].str.contains('Complete')]\n",
    "data_complete_jobs=data_complete[data_complete['¿Cuántos empleos tiene en la actualidad? Incluya los empleos formales e informales.']>0]\n",
    "data_complete.fillna('', inplace=True)"
   ]
  },
  {
   "cell_type": "code",
   "execution_count": 67,
   "metadata": {
    "collapsed": false,
    "scrolled": true
   },
   "outputs": [
    {
     "data": {
      "text/plain": [
       "0       Complete\n",
       "3       Complete\n",
       "4       Complete\n",
       "6       Complete\n",
       "7       Complete\n",
       "9       Complete\n",
       "10      Complete\n",
       "12      Complete\n",
       "13      Complete\n",
       "15      Complete\n",
       "          ...   \n",
       "1395    Complete\n",
       "1396    Complete\n",
       "1397    Complete\n",
       "1398    Complete\n",
       "1402    Complete\n",
       "1403    Complete\n",
       "1404    Complete\n",
       "1406    Complete\n",
       "1408    Complete\n",
       "1412    Complete\n",
       "Name: Status, dtype: object"
      ]
     },
     "execution_count": 67,
     "metadata": {},
     "output_type": "execute_result"
    }
   ],
   "source": [
    "data_complete['Status']"
   ]
  },
  {
   "cell_type": "code",
   "execution_count": 68,
   "metadata": {
    "collapsed": false,
    "scrolled": true
   },
   "outputs": [
    {
     "data": {
      "text/plain": [
       "0               Menos de 6 meses\n",
       "3                               \n",
       "4                               \n",
       "6               Menos de 6 meses\n",
       "7               Menos de 6 meses\n",
       "9             No encontré empleo\n",
       "10            No encontré empleo\n",
       "12                              \n",
       "13            No encontré empleo\n",
       "15                              \n",
       "                  ...           \n",
       "1395    Entre 6 meses y 12 meses\n",
       "1396                            \n",
       "1397                            \n",
       "1398                            \n",
       "1402            Menos de 6 meses\n",
       "1403                            \n",
       "1404                            \n",
       "1406                            \n",
       "1408          No encontré empleo\n",
       "1412                            \n",
       "Name: Una vez terminado el Doctorado (PhD) y estando físicamente en Chile ¿Cuánto tiempo tardó en encontrar empleo vinculado a su especialización? Entiéndase que hacer un nuevo Postgrado o trabajar como Postdoctorado son considerados empleos./Doctorado (PhD), dtype: object"
      ]
     },
     "execution_count": 68,
     "metadata": {},
     "output_type": "execute_result"
    }
   ],
   "source": [
    "data_complete['Una vez terminado el Doctorado (PhD) y estando físicamente en Chile ¿Cuánto tiempo tardó en encontrar empleo vinculado a su especialización? Entiéndase que hacer un nuevo Postgrado o trabajar como Postdoctorado son considerados empleos./Doctorado (PhD)']"
   ]
  },
  {
   "cell_type": "code",
   "execution_count": 69,
   "metadata": {
    "collapsed": false,
    "scrolled": true
   },
   "outputs": [
    {
     "name": "stderr",
     "output_type": "stream",
     "text": [
      "/usr/local/lib/python3.5/site-packages/pandas/core/indexing.py:476: SettingWithCopyWarning: \n",
      "A value is trying to be set on a copy of a slice from a DataFrame.\n",
      "Try using .loc[row_indexer,col_indexer] = value instead\n",
      "\n",
      "See the caveats in the documentation: http://pandas.pydata.org/pandas-docs/stable/indexing.html#indexing-view-versus-copy\n",
      "  self.obj[item] = s\n"
     ]
    },
    {
     "data": {
      "text/plain": [
       "0       35.0\n",
       "3       29.0\n",
       "4       30.0\n",
       "6       35.0\n",
       "7       39.0\n",
       "9       36.0\n",
       "10      36.0\n",
       "12      35.0\n",
       "13      36.0\n",
       "15      33.0\n",
       "        ... \n",
       "1395    36.0\n",
       "1396    29.0\n",
       "1397    39.0\n",
       "1398    30.0\n",
       "1402    32.0\n",
       "1403    37.0\n",
       "1404    32.0\n",
       "1406    28.0\n",
       "1408    31.0\n",
       "1412    31.0\n",
       "Name: ¿Cuál es su edad? Exprésela en años, dtype: float64"
      ]
     },
     "execution_count": 69,
     "metadata": {},
     "output_type": "execute_result"
    }
   ],
   "source": [
    "data_complete.loc[:,'¿Cuál es su edad? Exprésela en años'] = data_complete['¿Cuál es su edad? Exprésela en años'].apply(pd.to_numeric)\n",
    "data_complete['¿Cuál es su edad? Exprésela en años']"
   ]
  },
  {
   "cell_type": "code",
   "execution_count": 73,
   "metadata": {
    "collapsed": false
   },
   "outputs": [
    {
     "name": "stderr",
     "output_type": "stream",
     "text": [
      "/usr/local/lib/python3.5/site-packages/pandas/core/indexing.py:476: SettingWithCopyWarning: \n",
      "A value is trying to be set on a copy of a slice from a DataFrame.\n",
      "Try using .loc[row_indexer,col_indexer] = value instead\n",
      "\n",
      "See the caveats in the documentation: http://pandas.pydata.org/pandas-docs/stable/indexing.html#indexing-view-versus-copy\n",
      "  self.obj[item] = s\n"
     ]
    },
    {
     "data": {
      "text/plain": [
       "0             Contrato de trabajo a plazo fijo\n",
       "3                        Contrato a honorarios\n",
       "4                           Acuerdo de palabra\n",
       "6                        Contrato a honorarios\n",
       "7       Contrato de trabajo a plazo indefinido\n",
       "10            Contrato de trabajo a plazo fijo\n",
       "12      Contrato de trabajo a plazo indefinido\n",
       "15      Contrato de trabajo a plazo indefinido\n",
       "16                       Contrato a honorarios\n",
       "18                          Acuerdo de palabra\n",
       "                         ...                  \n",
       "1376                     Contrato a honorarios\n",
       "1378                          Convenio de beca\n",
       "1384                     Contrato a honorarios\n",
       "1387    Contrato de trabajo a plazo indefinido\n",
       "1388          Contrato de trabajo a plazo fijo\n",
       "1395                Convenio de financiamiento\n",
       "1398                          Convenio de beca\n",
       "1402    Contrato de trabajo a plazo indefinido\n",
       "1403                                      Otra\n",
       "1404          Contrato de trabajo a plazo fijo\n",
       "Name: ¿Qué tipo de relación laboral tiene en este trabajo?/1, dtype: object"
      ]
     },
     "execution_count": 73,
     "metadata": {},
     "output_type": "execute_result"
    }
   ],
   "source": [
    "for i in data_complete_jobs.index:\n",
    "    text=data_complete_jobs.loc[i,'¿Qué tipo de relación laboral tiene en este trabajo?/1']\n",
    "    soup = BeautifulSoup(text, \"html.parser\")\n",
    "    for match in soup.findAll('span'):\n",
    "        match.decompose()\n",
    "    data_complete_jobs.loc[i,'¿Qué tipo de relación laboral tiene en este trabajo?/1']=soup.get_text()\n",
    "    \n",
    "data_complete_jobs['¿Qué tipo de relación laboral tiene en este trabajo?/1']"
   ]
  },
  {
   "cell_type": "markdown",
   "metadata": {},
   "source": [
    "## Now the plots"
   ]
  },
  {
   "cell_type": "code",
   "execution_count": 74,
   "metadata": {
    "collapsed": false
   },
   "outputs": [
    {
     "data": {
      "text/plain": [
       "<matplotlib.axes._subplots.AxesSubplot at 0x1157ff7b8>"
      ]
     },
     "execution_count": 74,
     "metadata": {},
     "output_type": "execute_result"
    },
    {
     "data": {
      "image/png": "[encoded data removed]",
      "text/plain": [
       "<matplotlib.figure.Figure at 0x114648d68>"
      ]
     },
     "metadata": {},
     "output_type": "display_data"
    }
   ],
   "source": [
    "data_complete['¿Cuál es su edad? Exprésela en años'].hist()"
   ]
  },
  {
   "cell_type": "code",
   "execution_count": 75,
   "metadata": {
    "collapsed": false
   },
   "outputs": [
    {
     "data": {
      "text/plain": [
       "<matplotlib.axes._subplots.AxesSubplot at 0x115e6f780>"
      ]
     },
     "execution_count": 75,
     "metadata": {},
     "output_type": "execute_result"
    },
    {
     "data": {
      "image/png": "[encoded data removed]",
      "text/plain": [
       "<matplotlib.figure.Figure at 0x115fb45c0>"
      ]
     },
     "metadata": {},
     "output_type": "display_data"
    }
   ],
   "source": [
    "data_complete_jobs['¿Cuántos empleos tiene en la actualidad? Incluya los empleos formales e informales.'].hist()"
   ]
  },
  {
   "cell_type": "code",
   "execution_count": 76,
   "metadata": {
    "collapsed": false
   },
   "outputs": [
    {
     "data": {
      "text/plain": [
       "¿Qué tipo de relación laboral tiene en este trabajo?/1\n",
       "Acuerdo de palabra                         16\n",
       "Contrato a honorarios                     155\n",
       "Contrato de trabajo a plazo fijo          138\n",
       "Contrato de trabajo a plazo indefinido    142\n",
       "Contrato de trabajo por obra                3\n",
       "Convenio de beca                           42\n",
       "Convenio de financiamiento                 49\n",
       "Otra                                       21\n",
       "Sin contrato                               15\n",
       "dtype: int64"
      ]
     },
     "execution_count": 76,
     "metadata": {},
     "output_type": "execute_result"
    }
   ],
   "source": [
    "data_complete_jobs.groupby(['¿Qué tipo de relación laboral tiene en este trabajo?/1']).size()"
   ]
  },
  {
   "cell_type": "code",
   "execution_count": 78,
   "metadata": {
    "collapsed": false,
    "scrolled": false
   },
   "outputs": [
    {
     "data": {
      "text/plain": [
       "<matplotlib.axes._subplots.AxesSubplot at 0x113eca908>"
      ]
     },
     "execution_count": 78,
     "metadata": {},
     "output_type": "execute_result"
    },
    {
     "data": {
      "image/png": "[encoded data removed]",
      "text/plain": [
       "<matplotlib.figure.Figure at 0x116aa74a8>"
      ]
     },
     "metadata": {},
     "output_type": "display_data"
    }
   ],
   "source": [
    "data_complete_jobs['¿Qué tipo de relación laboral tiene en este trabajo?/1'].value_counts().plot(kind='bar')"
   ]
  },
  {
   "cell_type": "code",
   "execution_count": 134,
   "metadata": {
    "collapsed": false,
    "scrolled": true
   },
   "outputs": [
    {
     "name": "stdout",
     "output_type": "stream",
     "text": [
      "Numero de investigadores que se declaran desempleados:  71\n",
      "Numero de total de investigadores:  779\n"
     ]
    }
   ],
   "source": [
    "data_unemployed=data_complete[ (data_complete['Una vez terminado el Magíster (MSc) y estando físicamente en Chile ¿Cuánto tiempo tardó en encontrar empleo vinculado a su especialización? Entiéndase que hacer un nuevo Postgrado o trabajar como Postdoctorado son considerados empleos./Magíster (MSc)'].str.contains('No econtré empleo') | \\\n",
    "data_complete['Una vez terminado el Doctorado (PhD) y estando físicamente en Chile ¿Cuánto tiempo tardó en encontrar empleo vinculado a su especialización? Entiéndase que hacer un nuevo Postgrado o trabajar como Postdoctorado son considerados empleos./Doctorado (PhD)'].str.contains('No encontré empleo') | \\\n",
    "data_complete['Una vez terminado el Postdoctorado y estando físicamente en Chile ¿Cuánto tiempo tardó en encontrar empleo vinculado a su especialización?\\xa0Entiéndase que hacer un nuevo Postgrado o trabajar como Postdoctorado son considerados empleos.'].str.contains('No encontré empleo')) ]\n",
    "\n",
    "print('Numero de investigadores que se declaran desempleados: ', len(data_unemployed.index))\n",
    "print('Numero de total de investigadores: ', len(data_complete.index))"
   ]
  },
  {
   "cell_type": "code",
   "execution_count": 151,
   "metadata": {
    "collapsed": false
   },
   "outputs": [
    {
     "name": "stdout",
     "output_type": "stream",
     "text": [
      "Numero de investigadores que se declaran desempleados:  1\n",
      "Numero de total de investigadores:  109\n",
      "Porcentaje:  0.9 %\n"
     ]
    }
   ],
   "source": [
    "data_age=data_complete[ data_complete['¿Cuál es su edad? Exprésela en años'] < 30]\n",
    "\n",
    "data_unemployed=data_age[ (data_age['Una vez terminado el Magíster (MSc) y estando físicamente en Chile ¿Cuánto tiempo tardó en encontrar empleo vinculado a su especialización? Entiéndase que hacer un nuevo Postgrado o trabajar como Postdoctorado son considerados empleos./Magíster (MSc)'].str.contains('No econtré empleo') | \\\n",
    "data_age['Una vez terminado el Doctorado (PhD) y estando físicamente en Chile ¿Cuánto tiempo tardó en encontrar empleo vinculado a su especialización? Entiéndase que hacer un nuevo Postgrado o trabajar como Postdoctorado son considerados empleos./Doctorado (PhD)'].str.contains('No encontré empleo') | \\\n",
    "data_age['Una vez terminado el Postdoctorado y estando físicamente en Chile ¿Cuánto tiempo tardó en encontrar empleo vinculado a su especialización?\\xa0Entiéndase que hacer un nuevo Postgrado o trabajar como Postdoctorado son considerados empleos.'].str.contains('No encontré empleo')) ]\n",
    "\n",
    "print('Numero de investigadores que se declaran desempleados: ', len(data_unemployed.index))\n",
    "print('Numero de total de investigadores: ', len(data_age.index))\n",
    "print('Porcentaje: ', np.round(len(data_unemployed.index)/len(data_age.index)*100.,1), '%')"
   ]
  },
  {
   "cell_type": "code",
   "execution_count": 149,
   "metadata": {
    "collapsed": false
   },
   "outputs": [
    {
     "name": "stdout",
     "output_type": "stream",
     "text": [
      "Numero de investigadores que se declaran desempleados:  26\n",
      "Numero de total de investigadores:  390\n",
      "Porcentaje:  6.7 %\n"
     ]
    }
   ],
   "source": [
    "data_age=data_complete[ data_complete['¿Cuál es su edad? Exprésela en años'] < 35]\n",
    "\n",
    "data_unemployed=data_age[ (data_age['Una vez terminado el Magíster (MSc) y estando físicamente en Chile ¿Cuánto tiempo tardó en encontrar empleo vinculado a su especialización? Entiéndase que hacer un nuevo Postgrado o trabajar como Postdoctorado son considerados empleos./Magíster (MSc)'].str.contains('No econtré empleo') | \\\n",
    "data_age['Una vez terminado el Doctorado (PhD) y estando físicamente en Chile ¿Cuánto tiempo tardó en encontrar empleo vinculado a su especialización? Entiéndase que hacer un nuevo Postgrado o trabajar como Postdoctorado son considerados empleos./Doctorado (PhD)'].str.contains('No encontré empleo') | \\\n",
    "data_age['Una vez terminado el Postdoctorado y estando físicamente en Chile ¿Cuánto tiempo tardó en encontrar empleo vinculado a su especialización?\\xa0Entiéndase que hacer un nuevo Postgrado o trabajar como Postdoctorado son considerados empleos.'].str.contains('No encontré empleo')) ]\n",
    "\n",
    "print('Numero de investigadores que se declaran desempleados: ', len(data_unemployed.index))\n",
    "print('Numero de total de investigadores: ', len(data_age.index))\n",
    "print('Porcentaje: ', np.round(len(data_unemployed.index)/len(data_age.index)*100.,1), '%')"
   ]
  },
  {
   "cell_type": "code",
   "execution_count": 150,
   "metadata": {
    "collapsed": false
   },
   "outputs": [
    {
     "name": "stdout",
     "output_type": "stream",
     "text": [
      "Numero de investigadores que se declaran desempleados:  59\n",
      "Numero de total de investigadores:  640\n",
      "Porcentaje:  9.2 %\n"
     ]
    }
   ],
   "source": [
    "data_age=data_complete[ data_complete['¿Cuál es su edad? Exprésela en años'] < 40]\n",
    "\n",
    "data_unemployed=data_age[ (data_age['Una vez terminado el Magíster (MSc) y estando físicamente en Chile ¿Cuánto tiempo tardó en encontrar empleo vinculado a su especialización? Entiéndase que hacer un nuevo Postgrado o trabajar como Postdoctorado son considerados empleos./Magíster (MSc)'].str.contains('No econtré empleo') | \\\n",
    "data_age['Una vez terminado el Doctorado (PhD) y estando físicamente en Chile ¿Cuánto tiempo tardó en encontrar empleo vinculado a su especialización? Entiéndase que hacer un nuevo Postgrado o trabajar como Postdoctorado son considerados empleos./Doctorado (PhD)'].str.contains('No encontré empleo') | \\\n",
    "data_age['Una vez terminado el Postdoctorado y estando físicamente en Chile ¿Cuánto tiempo tardó en encontrar empleo vinculado a su especialización?\\xa0Entiéndase que hacer un nuevo Postgrado o trabajar como Postdoctorado son considerados empleos.'].str.contains('No encontré empleo')) ]\n",
    "\n",
    "print('Numero de investigadores que se declaran desempleados: ', len(data_unemployed.index))\n",
    "print('Numero de total de investigadores: ', len(data_age.index))\n",
    "print('Porcentaje: ', np.round(len(data_unemployed.index)/len(data_age.index)*100.,1), '%')"
   ]
  },
  {
   "cell_type": "code",
   "execution_count": null,
   "metadata": {
    "collapsed": true
   },
   "outputs": [],
   "source": []
  }
 ],
 "metadata": {
  "kernelspec": {
   "display_name": "Python 3",
   "language": "python",
   "name": "python3"
  },
  "language_info": {
   "codemirror_mode": {
    "name": "ipython",
    "version": 3
   },
   "file_extension": ".py",
   "mimetype": "text/x-python",
   "name": "python",
   "nbconvert_exporter": "python",
   "pygments_lexer": "ipython3",
   "version": "3.5.2"
  }
 },
 "nbformat": 4,
 "nbformat_minor": 1
}
