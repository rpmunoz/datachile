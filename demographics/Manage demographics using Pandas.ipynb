{
 "cells": [
  {
   "cell_type": "markdown",
   "metadata": {},
   "source": [
    "## Reading and manipulating datasets with Pandas\n",
    "\n",
    "This notebook shows how to read CSV files with pandas and apply common SQL operations\n",
    "\n",
    "**Author:** Roberto Muñoz <br />\n",
    "**Email:** rmunoz@uc.cl"
   ]
  },
  {
   "cell_type": "code",
   "execution_count": 1,
   "metadata": {
    "collapsed": true
   },
   "outputs": [],
   "source": [
    "import numpy as np\n",
    "import pandas as pd\n",
    "\n",
    "from __future__ import print_function "
   ]
  },
  {
   "cell_type": "code",
   "execution_count": 2,
   "metadata": {
    "collapsed": true
   },
   "outputs": [],
   "source": [
    "regiones_file='data/chile_regiones.csv'\n",
    "provincias_file='data/chile_provincias.csv'\n",
    "comunas_file='data/chile_comunas.csv'\n",
    "\n",
    "regiones=pd.read_csv(regiones_file, header=0, sep=',')\n",
    "provincias=pd.read_csv(provincias_file, header=0, sep=',')\n",
    "comunas=pd.read_csv(comunas_file, header=0, sep=',')"
   ]
  },
  {
   "cell_type": "code",
   "execution_count": 3,
   "metadata": {
    "collapsed": false
   },
   "outputs": [
    {
     "name": "stdout",
     "output_type": "stream",
     "text": [
      "regiones table:  ['RegionID', 'RegionNombre', 'RegionOrdinal']\n",
      "provincias table:  ['ProvinciaID', 'ProvinciaNombre', 'RegionID']\n",
      "comunas table:  ['ComunaID', 'ComunaNombre', 'ProvinciaID']\n"
     ]
    }
   ],
   "source": [
    "print('regiones table: ', regiones.columns.values.tolist())\n",
    "print('provincias table: ', provincias.columns.values.tolist())\n",
    "print('comunas table: ', comunas.columns.values.tolist())"
   ]
  },
  {
   "cell_type": "code",
   "execution_count": 4,
   "metadata": {
    "collapsed": false
   },
   "outputs": [
    {
     "data": {
      "text/html": [
       "<div>\n",
       "<table border=\"1\" class=\"dataframe\">\n",
       "  <thead>\n",
       "    <tr style=\"text-align: right;\">\n",
       "      <th></th>\n",
       "      <th>RegionID</th>\n",
       "      <th>RegionNombre</th>\n",
       "      <th>RegionOrdinal</th>\n",
       "    </tr>\n",
       "  </thead>\n",
       "  <tbody>\n",
       "    <tr>\n",
       "      <th>0</th>\n",
       "      <td>1</td>\n",
       "      <td>'Arica y Parinacota'</td>\n",
       "      <td>'XV'</td>\n",
       "    </tr>\n",
       "    <tr>\n",
       "      <th>1</th>\n",
       "      <td>2</td>\n",
       "      <td>'Tarapacá'</td>\n",
       "      <td>'I'</td>\n",
       "    </tr>\n",
       "    <tr>\n",
       "      <th>2</th>\n",
       "      <td>3</td>\n",
       "      <td>'Antofagasta'</td>\n",
       "      <td>'II'</td>\n",
       "    </tr>\n",
       "    <tr>\n",
       "      <th>3</th>\n",
       "      <td>4</td>\n",
       "      <td>'Atacama'</td>\n",
       "      <td>'III'</td>\n",
       "    </tr>\n",
       "    <tr>\n",
       "      <th>4</th>\n",
       "      <td>5</td>\n",
       "      <td>'Coquimbo'</td>\n",
       "      <td>'IV'</td>\n",
       "    </tr>\n",
       "  </tbody>\n",
       "</table>\n",
       "</div>"
      ],
      "text/plain": [
       "   RegionID          RegionNombre RegionOrdinal\n",
       "0         1  'Arica y Parinacota'          'XV'\n",
       "1         2            'Tarapacá'           'I'\n",
       "2         3         'Antofagasta'          'II'\n",
       "3         4             'Atacama'         'III'\n",
       "4         5            'Coquimbo'          'IV'"
      ]
     },
     "execution_count": 4,
     "metadata": {},
     "output_type": "execute_result"
    }
   ],
   "source": [
    "regiones.head()"
   ]
  },
  {
   "cell_type": "code",
   "execution_count": 5,
   "metadata": {
    "collapsed": false
   },
   "outputs": [
    {
     "data": {
      "text/html": [
       "<div>\n",
       "<table border=\"1\" class=\"dataframe\">\n",
       "  <thead>\n",
       "    <tr style=\"text-align: right;\">\n",
       "      <th></th>\n",
       "      <th>ProvinciaID</th>\n",
       "      <th>ProvinciaNombre</th>\n",
       "      <th>RegionID</th>\n",
       "    </tr>\n",
       "  </thead>\n",
       "  <tbody>\n",
       "    <tr>\n",
       "      <th>0</th>\n",
       "      <td>1</td>\n",
       "      <td>'Arica'</td>\n",
       "      <td>1</td>\n",
       "    </tr>\n",
       "    <tr>\n",
       "      <th>1</th>\n",
       "      <td>2</td>\n",
       "      <td>'Parinacota'</td>\n",
       "      <td>1</td>\n",
       "    </tr>\n",
       "    <tr>\n",
       "      <th>2</th>\n",
       "      <td>3</td>\n",
       "      <td>'Iquique'</td>\n",
       "      <td>2</td>\n",
       "    </tr>\n",
       "    <tr>\n",
       "      <th>3</th>\n",
       "      <td>4</td>\n",
       "      <td>'El Tamarugal'</td>\n",
       "      <td>2</td>\n",
       "    </tr>\n",
       "    <tr>\n",
       "      <th>4</th>\n",
       "      <td>5</td>\n",
       "      <td>'Antofagasta'</td>\n",
       "      <td>3</td>\n",
       "    </tr>\n",
       "  </tbody>\n",
       "</table>\n",
       "</div>"
      ],
      "text/plain": [
       "   ProvinciaID ProvinciaNombre  RegionID\n",
       "0            1         'Arica'         1\n",
       "1            2    'Parinacota'         1\n",
       "2            3       'Iquique'         2\n",
       "3            4  'El Tamarugal'         2\n",
       "4            5   'Antofagasta'         3"
      ]
     },
     "execution_count": 5,
     "metadata": {},
     "output_type": "execute_result"
    }
   ],
   "source": [
    "provincias.head()"
   ]
  },
  {
   "cell_type": "code",
   "execution_count": 6,
   "metadata": {
    "collapsed": false
   },
   "outputs": [
    {
     "data": {
      "text/html": [
       "<div>\n",
       "<table border=\"1\" class=\"dataframe\">\n",
       "  <thead>\n",
       "    <tr style=\"text-align: right;\">\n",
       "      <th></th>\n",
       "      <th>ComunaID</th>\n",
       "      <th>ComunaNombre</th>\n",
       "      <th>ProvinciaID</th>\n",
       "    </tr>\n",
       "  </thead>\n",
       "  <tbody>\n",
       "    <tr>\n",
       "      <th>0</th>\n",
       "      <td>1</td>\n",
       "      <td>'Arica'</td>\n",
       "      <td>1</td>\n",
       "    </tr>\n",
       "    <tr>\n",
       "      <th>1</th>\n",
       "      <td>2</td>\n",
       "      <td>'Camarones'</td>\n",
       "      <td>1</td>\n",
       "    </tr>\n",
       "    <tr>\n",
       "      <th>2</th>\n",
       "      <td>3</td>\n",
       "      <td>'General Lagos'</td>\n",
       "      <td>2</td>\n",
       "    </tr>\n",
       "    <tr>\n",
       "      <th>3</th>\n",
       "      <td>4</td>\n",
       "      <td>'Putre'</td>\n",
       "      <td>2</td>\n",
       "    </tr>\n",
       "    <tr>\n",
       "      <th>4</th>\n",
       "      <td>5</td>\n",
       "      <td>'Alto Hospicio'</td>\n",
       "      <td>3</td>\n",
       "    </tr>\n",
       "  </tbody>\n",
       "</table>\n",
       "</div>"
      ],
      "text/plain": [
       "   ComunaID     ComunaNombre  ProvinciaID\n",
       "0         1          'Arica'            1\n",
       "1         2      'Camarones'            1\n",
       "2         3  'General Lagos'            2\n",
       "3         4          'Putre'            2\n",
       "4         5  'Alto Hospicio'            3"
      ]
     },
     "execution_count": 6,
     "metadata": {},
     "output_type": "execute_result"
    }
   ],
   "source": [
    "comunas.head()"
   ]
  },
  {
   "cell_type": "code",
   "execution_count": 7,
   "metadata": {
    "collapsed": false
   },
   "outputs": [
    {
     "data": {
      "text/html": [
       "<div>\n",
       "<table border=\"1\" class=\"dataframe\">\n",
       "  <thead>\n",
       "    <tr style=\"text-align: right;\">\n",
       "      <th></th>\n",
       "      <th>RegionID</th>\n",
       "      <th>RegionNombre</th>\n",
       "      <th>RegionOrdinal</th>\n",
       "      <th>ProvinciaID</th>\n",
       "      <th>ProvinciaNombre</th>\n",
       "    </tr>\n",
       "  </thead>\n",
       "  <tbody>\n",
       "    <tr>\n",
       "      <th>0</th>\n",
       "      <td>1</td>\n",
       "      <td>'Arica y Parinacota'</td>\n",
       "      <td>'XV'</td>\n",
       "      <td>1</td>\n",
       "      <td>'Arica'</td>\n",
       "    </tr>\n",
       "    <tr>\n",
       "      <th>1</th>\n",
       "      <td>1</td>\n",
       "      <td>'Arica y Parinacota'</td>\n",
       "      <td>'XV'</td>\n",
       "      <td>2</td>\n",
       "      <td>'Parinacota'</td>\n",
       "    </tr>\n",
       "    <tr>\n",
       "      <th>2</th>\n",
       "      <td>2</td>\n",
       "      <td>'Tarapacá'</td>\n",
       "      <td>'I'</td>\n",
       "      <td>3</td>\n",
       "      <td>'Iquique'</td>\n",
       "    </tr>\n",
       "    <tr>\n",
       "      <th>3</th>\n",
       "      <td>2</td>\n",
       "      <td>'Tarapacá'</td>\n",
       "      <td>'I'</td>\n",
       "      <td>4</td>\n",
       "      <td>'El Tamarugal'</td>\n",
       "    </tr>\n",
       "    <tr>\n",
       "      <th>4</th>\n",
       "      <td>3</td>\n",
       "      <td>'Antofagasta'</td>\n",
       "      <td>'II'</td>\n",
       "      <td>5</td>\n",
       "      <td>'Antofagasta'</td>\n",
       "    </tr>\n",
       "  </tbody>\n",
       "</table>\n",
       "</div>"
      ],
      "text/plain": [
       "   RegionID          RegionNombre RegionOrdinal  ProvinciaID ProvinciaNombre\n",
       "0         1  'Arica y Parinacota'          'XV'            1         'Arica'\n",
       "1         1  'Arica y Parinacota'          'XV'            2    'Parinacota'\n",
       "2         2            'Tarapacá'           'I'            3       'Iquique'\n",
       "3         2            'Tarapacá'           'I'            4  'El Tamarugal'\n",
       "4         3         'Antofagasta'          'II'            5   'Antofagasta'"
      ]
     },
     "execution_count": 7,
     "metadata": {},
     "output_type": "execute_result"
    }
   ],
   "source": [
    "regiones_provincias=pd.merge(regiones, provincias, how='outer')\n",
    "regiones_provincias.head()"
   ]
  },
  {
   "cell_type": "code",
   "execution_count": 8,
   "metadata": {
    "collapsed": false
   },
   "outputs": [
    {
     "data": {
      "text/html": [
       "<div>\n",
       "<table border=\"1\" class=\"dataframe\">\n",
       "  <thead>\n",
       "    <tr style=\"text-align: right;\">\n",
       "      <th></th>\n",
       "      <th>ProvinciaID</th>\n",
       "      <th>ProvinciaNombre</th>\n",
       "      <th>RegionID</th>\n",
       "      <th>ComunaID</th>\n",
       "      <th>ComunaNombre</th>\n",
       "    </tr>\n",
       "  </thead>\n",
       "  <tbody>\n",
       "    <tr>\n",
       "      <th>0</th>\n",
       "      <td>1</td>\n",
       "      <td>'Arica'</td>\n",
       "      <td>1</td>\n",
       "      <td>1</td>\n",
       "      <td>'Arica'</td>\n",
       "    </tr>\n",
       "    <tr>\n",
       "      <th>1</th>\n",
       "      <td>1</td>\n",
       "      <td>'Arica'</td>\n",
       "      <td>1</td>\n",
       "      <td>2</td>\n",
       "      <td>'Camarones'</td>\n",
       "    </tr>\n",
       "    <tr>\n",
       "      <th>2</th>\n",
       "      <td>2</td>\n",
       "      <td>'Parinacota'</td>\n",
       "      <td>1</td>\n",
       "      <td>3</td>\n",
       "      <td>'General Lagos'</td>\n",
       "    </tr>\n",
       "    <tr>\n",
       "      <th>3</th>\n",
       "      <td>2</td>\n",
       "      <td>'Parinacota'</td>\n",
       "      <td>1</td>\n",
       "      <td>4</td>\n",
       "      <td>'Putre'</td>\n",
       "    </tr>\n",
       "    <tr>\n",
       "      <th>4</th>\n",
       "      <td>3</td>\n",
       "      <td>'Iquique'</td>\n",
       "      <td>2</td>\n",
       "      <td>5</td>\n",
       "      <td>'Alto Hospicio'</td>\n",
       "    </tr>\n",
       "  </tbody>\n",
       "</table>\n",
       "</div>"
      ],
      "text/plain": [
       "   ProvinciaID ProvinciaNombre  RegionID  ComunaID     ComunaNombre\n",
       "0            1         'Arica'         1         1          'Arica'\n",
       "1            1         'Arica'         1         2      'Camarones'\n",
       "2            2    'Parinacota'         1         3  'General Lagos'\n",
       "3            2    'Parinacota'         1         4          'Putre'\n",
       "4            3       'Iquique'         2         5  'Alto Hospicio'"
      ]
     },
     "execution_count": 8,
     "metadata": {},
     "output_type": "execute_result"
    }
   ],
   "source": [
    "provincias_comunas=pd.merge(provincias, comunas, how='outer')\n",
    "provincias_comunas.head()"
   ]
  },
  {
   "cell_type": "code",
   "execution_count": 47,
   "metadata": {
    "collapsed": false
   },
   "outputs": [
    {
     "data": {
      "text/html": [
       "<div>\n",
       "<table border=\"1\" class=\"dataframe\">\n",
       "  <thead>\n",
       "    <tr style=\"text-align: right;\">\n",
       "      <th></th>\n",
       "      <th>RegionID</th>\n",
       "      <th>RegionNombre</th>\n",
       "      <th>RegionOrdinal</th>\n",
       "      <th>ProvinciaID</th>\n",
       "      <th>ProvinciaNombre</th>\n",
       "      <th>ComunaID</th>\n",
       "      <th>ComunaNombre</th>\n",
       "    </tr>\n",
       "    <tr>\n",
       "      <th>ID</th>\n",
       "      <th></th>\n",
       "      <th></th>\n",
       "      <th></th>\n",
       "      <th></th>\n",
       "      <th></th>\n",
       "      <th></th>\n",
       "      <th></th>\n",
       "    </tr>\n",
       "  </thead>\n",
       "  <tbody>\n",
       "    <tr>\n",
       "      <th>0</th>\n",
       "      <td>1</td>\n",
       "      <td>'Arica y Parinacota'</td>\n",
       "      <td>'XV'</td>\n",
       "      <td>1</td>\n",
       "      <td>'Arica'</td>\n",
       "      <td>1</td>\n",
       "      <td>'Arica'</td>\n",
       "    </tr>\n",
       "    <tr>\n",
       "      <th>1</th>\n",
       "      <td>1</td>\n",
       "      <td>'Arica y Parinacota'</td>\n",
       "      <td>'XV'</td>\n",
       "      <td>1</td>\n",
       "      <td>'Arica'</td>\n",
       "      <td>2</td>\n",
       "      <td>'Camarones'</td>\n",
       "    </tr>\n",
       "    <tr>\n",
       "      <th>2</th>\n",
       "      <td>1</td>\n",
       "      <td>'Arica y Parinacota'</td>\n",
       "      <td>'XV'</td>\n",
       "      <td>2</td>\n",
       "      <td>'Parinacota'</td>\n",
       "      <td>3</td>\n",
       "      <td>'General Lagos'</td>\n",
       "    </tr>\n",
       "    <tr>\n",
       "      <th>3</th>\n",
       "      <td>1</td>\n",
       "      <td>'Arica y Parinacota'</td>\n",
       "      <td>'XV'</td>\n",
       "      <td>2</td>\n",
       "      <td>'Parinacota'</td>\n",
       "      <td>4</td>\n",
       "      <td>'Putre'</td>\n",
       "    </tr>\n",
       "    <tr>\n",
       "      <th>4</th>\n",
       "      <td>2</td>\n",
       "      <td>'Tarapacá'</td>\n",
       "      <td>'I'</td>\n",
       "      <td>3</td>\n",
       "      <td>'Iquique'</td>\n",
       "      <td>5</td>\n",
       "      <td>'Alto Hospicio'</td>\n",
       "    </tr>\n",
       "  </tbody>\n",
       "</table>\n",
       "</div>"
      ],
      "text/plain": [
       "    RegionID          RegionNombre RegionOrdinal  ProvinciaID ProvinciaNombre  \\\n",
       "ID                                                                              \n",
       "0          1  'Arica y Parinacota'          'XV'            1         'Arica'   \n",
       "1          1  'Arica y Parinacota'          'XV'            1         'Arica'   \n",
       "2          1  'Arica y Parinacota'          'XV'            2    'Parinacota'   \n",
       "3          1  'Arica y Parinacota'          'XV'            2    'Parinacota'   \n",
       "4          2            'Tarapacá'           'I'            3       'Iquique'   \n",
       "\n",
       "    ComunaID     ComunaNombre  \n",
       "ID                             \n",
       "0          1          'Arica'  \n",
       "1          2      'Camarones'  \n",
       "2          3  'General Lagos'  \n",
       "3          4          'Putre'  \n",
       "4          5  'Alto Hospicio'  "
      ]
     },
     "execution_count": 47,
     "metadata": {},
     "output_type": "execute_result"
    }
   ],
   "source": [
    "regiones_provincias_comunas=pd.merge(regiones_provincias, comunas, how='outer')\n",
    "regiones_provincias_comunas.index.name='ID'\n",
    "regiones_provincias_comunas.head()"
   ]
  },
  {
   "cell_type": "code",
   "execution_count": 14,
   "metadata": {
    "collapsed": true
   },
   "outputs": [],
   "source": [
    "regiones_provincias_comunas.to_csv('chile_demographic_data.csv', index=False)"
   ]
  },
  {
   "cell_type": "code",
   "execution_count": 50,
   "metadata": {
    "collapsed": false
   },
   "outputs": [],
   "source": [
    "surveygizmo=regiones_provincias_comunas[['RegionNombre','ProvinciaNombre','ComunaNombre']]\n",
    "surveygizmo.loc[:,'RegionNombre']=surveygizmo.apply(lambda x: x['RegionNombre'].replace(\"'\",\"\"), axis=1)\n",
    "surveygizmo.loc[:,'ProvinciaNombre']=surveygizmo.apply(lambda x: x['ProvinciaNombre'].replace(\"'\",\"\"), axis=1)\n",
    "surveygizmo.loc[:,'ComunaNombre']=surveygizmo.apply(lambda x: x['ComunaNombre'].replace(\"'\",\"\"), axis=1)\n",
    "\n",
    "surveygizmo.rename(columns={'RegionNombre': 'Region:', 'ProvinciaNombre': 'Provincia:', 'ComunaNombre': 'Comuna:'}, inplace=True)\n",
    "surveygizmo.to_csv('chile_demographic_surveygizmo.csv', index=False)"
   ]
  },
  {
   "cell_type": "code",
   "execution_count": 51,
   "metadata": {
    "collapsed": false
   },
   "outputs": [
    {
     "data": {
      "text/html": [
       "<div>\n",
       "<table border=\"1\" class=\"dataframe\">\n",
       "  <thead>\n",
       "    <tr style=\"text-align: right;\">\n",
       "      <th></th>\n",
       "      <th>Region:</th>\n",
       "      <th>Provincia:</th>\n",
       "      <th>Comuna:</th>\n",
       "    </tr>\n",
       "    <tr>\n",
       "      <th>ID</th>\n",
       "      <th></th>\n",
       "      <th></th>\n",
       "      <th></th>\n",
       "    </tr>\n",
       "  </thead>\n",
       "  <tbody>\n",
       "    <tr>\n",
       "      <th>0</th>\n",
       "      <td>Arica y Parinacota</td>\n",
       "      <td>Arica</td>\n",
       "      <td>Arica</td>\n",
       "    </tr>\n",
       "    <tr>\n",
       "      <th>1</th>\n",
       "      <td>Arica y Parinacota</td>\n",
       "      <td>Arica</td>\n",
       "      <td>Camarones</td>\n",
       "    </tr>\n",
       "    <tr>\n",
       "      <th>2</th>\n",
       "      <td>Arica y Parinacota</td>\n",
       "      <td>Parinacota</td>\n",
       "      <td>General Lagos</td>\n",
       "    </tr>\n",
       "    <tr>\n",
       "      <th>3</th>\n",
       "      <td>Arica y Parinacota</td>\n",
       "      <td>Parinacota</td>\n",
       "      <td>Putre</td>\n",
       "    </tr>\n",
       "    <tr>\n",
       "      <th>4</th>\n",
       "      <td>Tarapacá</td>\n",
       "      <td>Iquique</td>\n",
       "      <td>Alto Hospicio</td>\n",
       "    </tr>\n",
       "  </tbody>\n",
       "</table>\n",
       "</div>"
      ],
      "text/plain": [
       "               Region:  Provincia:        Comuna:\n",
       "ID                                               \n",
       "0   Arica y Parinacota       Arica          Arica\n",
       "1   Arica y Parinacota       Arica      Camarones\n",
       "2   Arica y Parinacota  Parinacota  General Lagos\n",
       "3   Arica y Parinacota  Parinacota          Putre\n",
       "4             Tarapacá     Iquique  Alto Hospicio"
      ]
     },
     "execution_count": 51,
     "metadata": {},
     "output_type": "execute_result"
    }
   ],
   "source": [
    "surveygizmo.head()"
   ]
  },
  {
   "cell_type": "code",
   "execution_count": null,
   "metadata": {
    "collapsed": true
   },
   "outputs": [],
   "source": []
  }
 ],
 "metadata": {
  "kernelspec": {
   "display_name": "Python 2",
   "language": "python",
   "name": "python2"
  },
  "language_info": {
   "codemirror_mode": {
    "name": "ipython",
    "version": 2
   },
   "file_extension": ".py",
   "mimetype": "text/x-python",
   "name": "python",
   "nbconvert_exporter": "python",
   "pygments_lexer": "ipython2",
   "version": "2.7.12"
  }
 },
 "nbformat": 4,
 "nbformat_minor": 1
}
